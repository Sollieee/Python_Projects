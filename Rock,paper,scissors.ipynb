{
 "cells": [
  {
   "cell_type": "code",
   "execution_count": 2,
   "id": "848ac8db",
   "metadata": {},
   "outputs": [],
   "source": [
    "import random"
   ]
  },
  {
   "cell_type": "code",
   "execution_count": 3,
   "id": "a3c3e395",
   "metadata": {},
   "outputs": [
    {
     "name": "stdout",
     "output_type": "stream",
     "text": [
      "rock,paper or scissors? rock\n",
      "you lose\n"
     ]
    }
   ],
   "source": [
    "user =input(\"rock,paper or scissors? \")\n",
    "computer = random.choice([\"rock\",\"paper\",\"scissors\"])\n",
    "\n",
    "if user ==computer :\n",
    "    print(\"it's a tie\")\n",
    "elif user ==\"rock\":\n",
    "    if computer ==\"paper\":\n",
    "        print(\"you lose\")\n",
    "    else:\n",
    "        print(\"you win\")\n",
    "elif user == \"paper\":\n",
    "    if computer == \"scissor\":\n",
    "        print(\"you lose\")\n",
    "    else:\n",
    "        print(\"you win\")\n",
    "elif user == \"scissor\":\n",
    "    if computer ==\"rock\":\n",
    "        print(\"you lose\")\n",
    "    else:\n",
    "        print(\"you win\")\n",
    "        rock"
   ]
  },
  {
   "cell_type": "code",
   "execution_count": null,
   "id": "48d2d2ec",
   "metadata": {},
   "outputs": [],
   "source": []
  },
  {
   "cell_type": "code",
   "execution_count": null,
   "id": "3282c753",
   "metadata": {},
   "outputs": [],
   "source": []
  }
 ],
 "metadata": {
  "kernelspec": {
   "display_name": "Python 3 (ipykernel)",
   "language": "python",
   "name": "python3"
  },
  "language_info": {
   "codemirror_mode": {
    "name": "ipython",
    "version": 3
   },
   "file_extension": ".py",
   "mimetype": "text/x-python",
   "name": "python",
   "nbconvert_exporter": "python",
   "pygments_lexer": "ipython3",
   "version": "3.9.12"
  }
 },
 "nbformat": 4,
 "nbformat_minor": 5
}
